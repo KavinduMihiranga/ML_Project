{
 "cells": [
  {
   "cell_type": "code",
   "execution_count": 1,
   "metadata": {},
   "outputs": [
    {
     "name": "stdout",
     "output_type": "stream",
     "text": [
      "['Apple', 'Huawei', 'Oppo', 'Samsung', 'Sony']\n",
      "[0 1 2 3 4]\n",
      "{'Apple': 0, 'Huawei': 1, 'Oppo': 2, 'Samsung': 3, 'Sony': 4}\n"
     ]
    }
   ],
   "source": [
    "import os \n",
    "import numpy as np\n",
    "data_path = r'train_data'\n",
    "labels = os.listdir(data_path)\n",
    "print(labels)\n",
    "categories = np.arange(len(labels))\n",
    "print(categories)\n",
    "categories_dict = dict(zip(labels,categories))\n",
    "print(categories_dict)"
   ]
  },
  {
   "cell_type": "code",
   "execution_count": null,
   "metadata": {},
   "outputs": [],
   "source": [
    "import cv2\n",
    "\n",
    "data=[]\n",
    "target=[]\n",
    "phones_classifier = cv2.CascadeClassifier('cascades/Phone_Cascade.xml')\n",
    "for label in labels:\n",
    "    imgs_path = os.path.join(data_path,label)\n",
    "    img_names = os.listdir(imgs_path)\n",
    "    for img_name in img_names:\n",
    "         \n",
    "        img_path = os.path.join(imgs_path,img_name)\n",
    "        img = cv2.imread(img_path) \n",
    "        \n",
    "        gray = cv2.cvtColor(img,cv2.COLOR_BGR2GRAY) \n",
    "        \n",
    "        phones = phones_classifier.detectMultiScale(gray) \n",
    "        \n",
    "       \n",
    "        for(x,y,w,h) in phones:\n",
    "            \n",
    "           \n",
    "            cropped_phone=gray[y:y+h,x:x+w] \n",
    "            cv2.imshow('cropped_phone',cropped_phone) \n",
    "            \n",
    "            print('If you accept this cropped phone press y or else n :')\n",
    "            \n",
    "            k=cv2.waitKey(0) \n",
    "            \n",
    "           \n",
    "            if(k==121):\n",
    "                \n",
    "               \n",
    "                cropped_phone = cv2.resize(cropped_phone,(50,50))\n",
    "\n",
    "               \n",
    "                data.append(cropped_phone)\n",
    "                target.append(categories_dict[label])\n",
    "            \n",
    "cv2.destroyAllWindows()"
   ]
  },
  {
   "cell_type": "code",
   "execution_count": null,
   "metadata": {},
   "outputs": [],
   "source": [
    "#\n",
    "data = np.array(data)\n",
    "target = np.array(target)\n",
    "\n",
    "print(data.shape)\n",
    "print(target.shape)\n",
    "\n",
    "data = data.reshape(data.shape[0],data.shape[1]*data.shape[2]) \n",
    "\n",
    "np.save('data',data)\n",
    "np.save('target',target)"
   ]
  },
  {
   "cell_type": "code",
   "execution_count": null,
   "metadata": {},
   "outputs": [],
   "source": [
    "import collections\n",
    "print(collections.Counter(target))"
   ]
  }
 ],
 "metadata": {
  "kernelspec": {
   "display_name": "Python 3",
   "language": "python",
   "name": "python3"
  },
  "language_info": {
   "codemirror_mode": {
    "name": "ipython",
    "version": 3
   },
   "file_extension": ".py",
   "mimetype": "text/x-python",
   "name": "python",
   "nbconvert_exporter": "python",
   "pygments_lexer": "ipython3",
   "version": "3.11.4"
  },
  "orig_nbformat": 4
 },
 "nbformat": 4,
 "nbformat_minor": 2
}
