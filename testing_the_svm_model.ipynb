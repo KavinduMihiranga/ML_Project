{
 "cells": [
  {
   "cell_type": "code",
   "execution_count": null,
   "metadata": {},
   "outputs": [],
   "source": [
    "import joblib\n",
    "\n",
    "model = joblib.load ('SVM-Phone Recognition.sav')"
   ]
  },
  {
   "cell_type": "code",
   "execution_count": null,
   "metadata": {},
   "outputs": [],
   "source": [
    "\n",
    "category_dict={0:'Apple', 1:'Huawei', 2:'Oppo',3:'Samsung',4:'Sony'}"
   ]
  },
  {
   "cell_type": "code",
   "execution_count": null,
   "metadata": {},
   "outputs": [],
   "source": [
    "test_data_path='test_data'\n",
    "\n",
    "import os\n",
    "import cv2\n",
    "\n",
    "face_classifier = cv2.CascadeClassifier('cascades/Phone_Cascade.xml')\n",
    "\n",
    "test_img_names = os.listdir(test_data_path)\n",
    "print(test_img_names)\n",
    "\n",
    "for test_img in test_img_names:\n",
    "    \n",
    "    img_path = os.path.join(test_data_path,test_img)\n",
    "    test_img = cv2.imread(img_path) \n",
    "        \n",
    "    gray = cv2.cvtColor(test_img,cv2.COLOR_BGR2GRAY) \n",
    "        \n",
    "    faces = face_classifier.detectMultiScale(gray) \n",
    "        \n",
    "    for(x,y,w,h) in faces:            \n",
    "        cv2.rectangle(test_img,(x,y),(x+w,y+h),(0,255,0),2) \n",
    " \n",
    "        cropped_phone=gray[y:y+h,x:x+w]\n",
    "        cropped_phone=cv2.resize(cropped_phone,(50,50)) \n",
    "        cropped_original=cropped_phone\n",
    "        cropped_phone=cropped_phone.reshape(1,50*50) \n",
    "                                    \n",
    "        result = model.predict(cropped_phone) \n",
    "        name = category_dict[result[0]] \n",
    "            \n",
    "        cv2.putText(test_img,name,(x,y-10),cv2.FONT_HERSHEY_SIMPLEX,1.5,(0,255,0),2) \n",
    "        cv2.imshow('GRAY',cropped_original) \n",
    "        cv2.imshow('LIVE',test_img) \n",
    "            \n",
    "        k=cv2.waitKey(10000) \n",
    "        if(k==27):\n",
    "            break\n",
    "cv2.destroyAllWindows()    "
   ]
  }
 ],
 "metadata": {
  "language_info": {
   "name": "python"
  },
  "orig_nbformat": 4
 },
 "nbformat": 4,
 "nbformat_minor": 2
}
